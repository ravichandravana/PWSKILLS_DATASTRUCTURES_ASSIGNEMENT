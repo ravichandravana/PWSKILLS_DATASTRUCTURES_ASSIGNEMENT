{
  "nbformat": 4,
  "nbformat_minor": 0,
  "metadata": {
    "colab": {
      "provenance": []
    },
    "kernelspec": {
      "name": "python3",
      "display_name": "Python 3"
    },
    "language_info": {
      "name": "python"
    }
  },
  "cells": [
    {
      "cell_type": "markdown",
      "source": [],
      "metadata": {
        "id": "PhIeZmOuGwkK"
      }
    },
    {
      "cell_type": "markdown",
      "source": [
        "1. What is Object-Oriented Programming (OOP)?\n",
        "->Object-Oriented Programming (OOP) is a paradigm that structures code using objects and classes. It focuses on encapsulation, inheritance, polymorphism, and abstraction to model real-world entities. OOP makes code more reusable, maintainable, and easier to understand.\n",
        "2. What is a class in OOP?\n",
        "->A class in Object-Oriented Programming (OOP) is a blueprint or template for creating objects. It defines the properties (attributes) and methods (behaviors) that the objects will have. Classes help organize and reuse code by grouping related data and functions together.\n",
        "3.What is an object in OOP?\n",
        "->An object in Object-Oriented Programming (OOP) is an instance of a class. It contains real values for the properties defined in the class and can perform actions using the class's methods. Objects represent real-world entities like a car, user, or product in a program.\n",
        "4. What is the difference between abstraction and encapsulation?\n",
        "->Abstraction-: hides implementation details and shows only essential features to the user.Focuses on what an object does, not how it does it.\n",
        "\n",
        "Encapsulation-: hides the internal state of an object and protects it from unintended interference.Focuses on how data is protected and accessed.\n",
        "\n",
        "5.What are dunder methods in Python?\n",
        "->Dunder methods in Python are special methods with double underscores (like __init__, __str__) that define how objects behave with built-in operations. They enable custom classes to support operators, function calls, and standard behaviors.\n",
        "\n",
        "6.Explain the concept of inheritance in OOPH\n",
        "->Inheritance in OOP is a mechanism where one class (child/subclass) inherits properties and methods from another class (parent/superclass). It promotes code reusability and allows the child class to extend or override the parent class's behavior.\n",
        "\n",
        "7.What is polymorphism in OOP?\n",
        "->Polymorphism in OOP allows objects of different classes to be treated as objects of a common superclass. It enables the same method name to behave differently based on the object calling it, enhancing flexibility and scalability in code.\n",
        "8. How is encapsulation achieved in Python?\n",
        "->Encapsulation in Python is achieved by bundling data (attributes) and methods (functions) that operate on the data into a single unit (class). It also involves restricting access to certain attributes or methods by using access modifiers like private or protected attributes, which can be controlled using naming conventions\n",
        "9.What is a constructor in Python?\n",
        "->A constructor in Python is a special method called __init__() that is automatically called when a new object of a class is created. Its primary purpose is to initialize the object's attributes (data members) with initial values.\n",
        "10. What are class and static methods in Python?\n",
        "->Class Method:-\n",
        "A class method is a method that is bound to the class and not the instance. It is used to access or modify the class state.\n",
        "\n",
        "It is defined using the @classmethod decorator and takes cls as the first argument, which refers to the class itself.\n",
        "\n",
        "Class methods are often used for factory methods or methods that modify class-level data.\n",
        "\n",
        "Static Method:-\n",
        "A static method is a method that doesn't take self or cls as the first argument, and it does not modify class or instance state.\n",
        "\n",
        "It is defined using the @staticmethod decorator and can be called on the class or an instance.\n",
        "\n",
        "Static methods are often used for utility functions that don't require access to class or instance attributes.\n",
        "\n",
        "11. What is method overloading in Python?\n",
        "->Method overloading in Python refers to the ability to define a method in such a way that it can handle different numbers or types of arguments.\n",
        "\n",
        "However, Python does not support method overloading natively like some other languages (e.g., Java or C++). If you define multiple methods with the same name, only the last one will be used.It is achived using default args\n",
        "  ex:-  def say_hello(self, name=None):\n",
        "\n",
        "12.What is method overriding in OOP?\n",
        "->Method overriding in Object-Oriented Programming (OOP) occurs when a subclass provides a specific implementation of a method that is already defined in its parent (super) class.\n",
        "\n",
        "The method in the child class has the same name, parameters, and return type as in the parent class.\n",
        "\n",
        "It allows the child class to customize or replace the behavior of the parent class’s method.\n",
        "\n",
        "13. What is a property decorator in Python?\n",
        "->The @property decorator in Python is used to define a method that can be accessed like an attribute, allowing you to customize getter behavior while keeping a clean syntax.\n",
        "\n",
        "14. Why is polymorphism important in OOP?\n",
        "->Polymorphism is important in OOP because it allows objects of different classes to be treated as if they are of the same class through a common interface. This promotes code flexibility, reusability, and scalability.\n",
        "\n",
        "15. What is an abstract class in Python?\n",
        "->An abstract class in Python is a class that cannot be instantiated on its own and is meant to be inherited by other classes. It defines a common interface for all its subclasses and may include abstract methods that must be implemented by the child classes.\n",
        "\n",
        "16. What are the advantages of OOP?\n",
        "->Modularity – Code is organized into separate objects, making it easier to manage and understand.\n",
        "\n",
        "Reusability – Classes and objects can be reused across programs through inheritance.\n",
        "\n",
        "Scalability and Maintainability – Easier to update and extend applications as new requirements arise.\n",
        "\n",
        "Encapsulation – Protects data by restricting access, improving security and reliability.\n",
        "\n",
        "Polymorphism – Same interface can work with different object types, leading to flexible and clean code.\n",
        "\n",
        "17.What is the difference between a class variable and an instance variable?\n",
        "->A class variable is shared by all instances of a class, while an instance variable is unique to each object.\n",
        "Class variables are defined outside methods; instance variables are defined inside the constructor using self.\n",
        "\n",
        "\n",
        "18.What is multiple inheritance in Python?\n",
        "->Multiple inheritance in Python means a class can inherit from more than one parent class.\n",
        "This allows a subclass to access attributes and methods from all its parent classes.\n",
        "\n",
        "\n",
        "19.Explain the purpose of ‘’__str__’ and ‘__repr__’ ‘ methods in Python?\n",
        "->The __str__ and __repr__ methods in Python define how an object is represented as a string:\n",
        "\n",
        "__str__ is used for readable, user-friendly output (what you see with print(obj)).\n",
        "\n",
        "__repr__ is used for developer/debug-friendly output, often resembling valid Python code.\n",
        "\n",
        "20.What is the significance of the ‘super()’ function in Python?\n",
        "->Calling parent methods: super() allows you to call a method from the parent class, making it useful in method overriding to retain the behavior of the base class while adding additional functionality in the child class.\n",
        "\n",
        "Supports multiple inheritance: In the case of multiple inheritance, super() ensures that the method resolution order (MRO) is followed and the correct method from the right class is called.\n",
        "\n",
        "21.What is the significance of the __del__ method in Python?\n",
        "->The __del__ method in Python is a destructor. It's called automatically when an object is about to be destroyed, typically when it goes out of scope or is deleted.\n",
        "\n",
        "22. What is the difference between @staticmethod and @classmethod in Python?\n",
        "->@staticmethod defines a method that doesn't access class or instance data.\n",
        "\n",
        "@classmethod receives the class as the first argument and can modify class state.\n",
        "\n",
        "23. How does polymorphism work in Python with inheritance?\n",
        "->Polymorphism in Python with inheritance allows methods to be overridden in derived classes, enabling different behaviors for the same method call depending on the object’s class type. This means that objects of different classes can respond to the same method name in their own way.\n",
        "\n",
        "24. What is method chaining in Python OOP?\n",
        "->Method chaining in Python OOP is the practice of calling multiple methods on the same object in a single line, where each method returns the object itself (usually via self). This allows for a fluent and concise syntax for performing multiple operations on an object.\n",
        "\n",
        "25.What is the purpose of the __call__ method in Python?\n",
        "->The __call__ method in Python allows an instance of a class to be called like a function. When an object is called as a function, the __call__ method is invoked. This provides a way to define behavior that makes objects callable.\n",
        "\n",
        "\n",
        "\n",
        "\n",
        "\n",
        "\n"
      ],
      "metadata": {
        "id": "upmMp_2fGYZE"
      }
    },
    {
      "cell_type": "markdown",
      "source": [
        "Practical Quetions"
      ],
      "metadata": {
        "id": "L1584OZvCdyY"
      }
    },
    {
      "cell_type": "markdown",
      "source": [
        "1. Create a parent class Animal with a method speak() that prints a generic message. Create a child class Dog\n",
        "that overrides the speak() method to print \"Bark!\"."
      ],
      "metadata": {
        "id": "SHucQHILCgnL"
      }
    },
    {
      "cell_type": "code",
      "execution_count": 3,
      "metadata": {
        "colab": {
          "base_uri": "https://localhost:8080/"
        },
        "id": "QLkF0Qo1GTJ5",
        "outputId": "a1784bf0-d5a3-468a-bb06-a34cd2af84aa"
      },
      "outputs": [
        {
          "output_type": "stream",
          "name": "stdout",
          "text": [
            "Animal Sound\n",
            "Bark\n"
          ]
        }
      ],
      "source": [
        "class Animal:\n",
        "  def speak(self):\n",
        "    print(\"Animal Sound\")\n",
        "\n",
        "class Dog(Animal):\n",
        "        def speak(self):\n",
        "          print(\"Bark\")\n",
        "\n",
        "animal=Animal()\n",
        "animal.speak()\n",
        "dog=Dog()\n",
        "dog.speak()"
      ]
    },
    {
      "cell_type": "markdown",
      "source": [
        "2. Write a program to create an abstract class Shape with a method area(). Derive classes Circle and Rectangle\n",
        "from it and implement the area() method in both."
      ],
      "metadata": {
        "id": "MNv2PGR9EfY8"
      }
    },
    {
      "cell_type": "code",
      "source": [
        "from abc import ABC,abstractmethod\n",
        "import math\n",
        "class Shape(ABC):\n",
        "   @abstractmethod\n",
        "   def area(self):\n",
        "    pass\n",
        "\n",
        "class Circle(Shape):\n",
        "  def __init__(self,radius):\n",
        "      self.radius=radius\n",
        "\n",
        "  def area(self):\n",
        "    return math.pi * self.radius**2\n",
        "\n",
        "class Rectangle(Shape):\n",
        "     def __init__(self, width, height):\n",
        "        self.width = width\n",
        "        self.height = height\n",
        "\n",
        "     def area(self):\n",
        "        return self.height*self.width\n",
        "\n",
        "rectangle=Rectangle(3,3)\n",
        "print(rectangle.area())\n",
        "\n",
        "circle=Circle(3)\n",
        "print(circle.area())"
      ],
      "metadata": {
        "colab": {
          "base_uri": "https://localhost:8080/"
        },
        "id": "8KPyFvD_Eh9_",
        "outputId": "67820fa1-a0ef-4bc2-e0a9-68c975b5d91a"
      },
      "execution_count": 12,
      "outputs": [
        {
          "output_type": "stream",
          "name": "stdout",
          "text": [
            "9\n",
            "28.274333882308138\n"
          ]
        }
      ]
    },
    {
      "cell_type": "markdown",
      "source": [
        "3. Implement a multi-level inheritance scenario where a class Vehicle has an attribute type. Derive a class Car\n",
        "and further derive a class ElectricCar that adds a battery attribute."
      ],
      "metadata": {
        "id": "uTGSpLMRHX3t"
      }
    },
    {
      "cell_type": "code",
      "source": [
        "class Vehicle:\n",
        "     def __init__(self,type):\n",
        "        self.type=type\n",
        "\n",
        "class Car(Vehicle):\n",
        "    def __init__(self,type,brand):\n",
        "       super().__init__(type)\n",
        "       self.brand=brand\n",
        "\n",
        "class ElectricCar(Car):\n",
        "     def __init__(self,type,brand,batteryCapacity):\n",
        "        super().__init__(type,brand)\n",
        "        self.batteryCapacity=batteryCapacity\n",
        "     def display(self):\n",
        "         print(f\"Type:{self.type}\")\n",
        "         print(f\"Brand:{self.brand}\")\n",
        "         print(f\"BatteryCapacity:{self.batteryCapacity}\")\n",
        "electriccare=ElectricCar(\"Four Weelher\",\"Tesla\",\"80\")\n",
        "electriccare.display()\n"
      ],
      "metadata": {
        "colab": {
          "base_uri": "https://localhost:8080/"
        },
        "id": "NPJmST-eHYoW",
        "outputId": "08a3f453-2ff5-43af-d979-d259583bb34d"
      },
      "execution_count": 16,
      "outputs": [
        {
          "output_type": "stream",
          "name": "stdout",
          "text": [
            "Type:Four Weelher\n",
            "Brand:Tesla\n",
            "BatteryCapacity:80\n"
          ]
        }
      ]
    },
    {
      "cell_type": "markdown",
      "source": [
        "4. Demonstrate polymorphism by creating a base class Bird with a method fly(). Create two derived classes\n",
        "Sparrow and Penguin that override the fly() method."
      ],
      "metadata": {
        "id": "93g_7FAyJ97T"
      }
    },
    {
      "cell_type": "code",
      "source": [
        "class Bird:\n",
        "    def fly(self):\n",
        "        print(\"Bird flies\")\n",
        "\n",
        "class Sparrow(Bird):\n",
        "    def fly(self):\n",
        "        print(\"Sparrow flies\")\n",
        "\n",
        "class Penguin(Bird):\n",
        "    def fly(self):\n",
        "        print(\"Penguin can't fly\")\n",
        "\n",
        "sparrow=Sparrow()\n",
        "sparrow.fly()\n",
        "\n",
        "penguin=Penguin()\n",
        "penguin.fly()"
      ],
      "metadata": {
        "colab": {
          "base_uri": "https://localhost:8080/"
        },
        "id": "FKMo0ImcJ_BD",
        "outputId": "9dbe0b98-a28a-4ecb-9677-7895c967d476"
      },
      "execution_count": 19,
      "outputs": [
        {
          "output_type": "stream",
          "name": "stdout",
          "text": [
            "Sparrow flies\n",
            "Penguin can't fly\n"
          ]
        }
      ]
    },
    {
      "cell_type": "markdown",
      "source": [
        "5. Write a program to demonstrate encapsulation by creating a class BankAccount with private attributes\n",
        "balance and methods to deposit, withdraw, and check balance."
      ],
      "metadata": {
        "id": "7QQsOfP7L1mT"
      }
    },
    {
      "cell_type": "code",
      "source": [
        "class BankAccount:\n",
        "    def __init__(self, initial_balance=0):\n",
        "        self.__balance = initial_balance\n",
        "\n",
        "    def deposit(self, amount):\n",
        "        if amount > 0:\n",
        "            self.__balance += amount\n",
        "            print(f\"Deposited: {amount}\")\n",
        "        else:\n",
        "            print(\"Invalid deposit amount\")\n",
        "\n",
        "    def withdraw(self, amount):\n",
        "        if 0 < amount <= self.__balance:\n",
        "            self.__balance -= amount\n",
        "            print(f\"Withdrew: {amount}\")\n",
        "        else:\n",
        "            print(\"Invalid or insufficient funds\")\n",
        "\n",
        "    def check_balance(self):\n",
        "        print(f\"Current balance: {self.__balance}\")\n",
        "\n",
        "\n",
        "account = BankAccount(1000)\n",
        "account.deposit(500)\n",
        "account.withdraw(300)\n",
        "account.check_balance()\n",
        "\n"
      ],
      "metadata": {
        "colab": {
          "base_uri": "https://localhost:8080/"
        },
        "id": "30db55kSL2ZU",
        "outputId": "dde8d577-74cf-4fe2-e115-9942ef398cc9"
      },
      "execution_count": 20,
      "outputs": [
        {
          "output_type": "stream",
          "name": "stdout",
          "text": [
            "Deposited: 500\n",
            "Withdrew: 300\n",
            "Current balance: 1200\n"
          ]
        }
      ]
    },
    {
      "cell_type": "markdown",
      "source": [
        "6. Demonstrate runtime polymorphism using a method play() in a base class Instrument. Derive classes Guitar\n",
        "and Piano that implement their own version of play()."
      ],
      "metadata": {
        "id": "qWWvX7k6RUqk"
      }
    },
    {
      "cell_type": "code",
      "source": [
        "class Instrument:\n",
        "    def play(self):\n",
        "        print(\"Playing an instrument\")\n",
        "\n",
        "class Guitar(Instrument):\n",
        "    def play(self):\n",
        "        print(\"Strumming the guitar\")\n",
        "\n",
        "class Piano(Instrument):\n",
        "    def play(self):\n",
        "        print(\"Playing the piano\")\n",
        "\n",
        "def perform(instrument):\n",
        "    instrument.play()\n",
        "\n",
        "i1 = Guitar()\n",
        "i2 = Piano()\n",
        "\n",
        "perform(i1)\n",
        "perform(i2)\n"
      ],
      "metadata": {
        "colab": {
          "base_uri": "https://localhost:8080/"
        },
        "id": "VFPXyNW5RVvQ",
        "outputId": "d590c71f-1cb0-4816-e081-554ad78e54f8"
      },
      "execution_count": 21,
      "outputs": [
        {
          "output_type": "stream",
          "name": "stdout",
          "text": [
            "Strumming the guitar\n",
            "Playing the piano\n"
          ]
        }
      ]
    },
    {
      "cell_type": "markdown",
      "source": [
        "7. Create a class MathOperations with a class method add_numbers() to add two numbers and a static\n",
        "method subtract_numbers() to subtract two numbers."
      ],
      "metadata": {
        "id": "--ZZlPDmSJ35"
      }
    },
    {
      "cell_type": "code",
      "source": [
        "class MathOperation:\n",
        "   @classmethod\n",
        "   def add_numbers(cls,a,b):\n",
        "            return a+b\n",
        "\n",
        "   @staticmethod\n",
        "   def subtract_numbers(a,b):\n",
        "       return a-b\n",
        "\n",
        "print(MathOperation.add_numbers(3,4))\n",
        "print(MathOperation.subtract_numbers(4,3))\n",
        "\n",
        ""
      ],
      "metadata": {
        "colab": {
          "base_uri": "https://localhost:8080/"
        },
        "id": "Ce350DikSKjF",
        "outputId": "78f43248-c256-4321-aa6e-2082d0e54b10"
      },
      "execution_count": 23,
      "outputs": [
        {
          "output_type": "stream",
          "name": "stdout",
          "text": [
            "7\n",
            "1\n"
          ]
        }
      ]
    },
    {
      "cell_type": "markdown",
      "source": [
        "8. Implement a class Person with a class method to count the total number of persons created."
      ],
      "metadata": {
        "id": "mXg0mR4XUmqT"
      }
    },
    {
      "cell_type": "code",
      "source": [
        "class Person:\n",
        "    count = 0\n",
        "\n",
        "    def __init__(self, name):\n",
        "        self.name = name\n",
        "        Person.count += 1\n",
        "\n",
        "    @classmethod\n",
        "    def total_persons(cls):\n",
        "        return cls.count\n",
        "\n",
        "p1 = Person(\"Alice\")\n",
        "p2 = Person(\"Bob\")\n",
        "p3 = Person(\"Charlie\")\n",
        "\n",
        "print(\"Total persons created:\", Person.total_persons())\n"
      ],
      "metadata": {
        "colab": {
          "base_uri": "https://localhost:8080/"
        },
        "id": "UYm__M53Unm9",
        "outputId": "799f6ce4-c836-409e-bea7-5c7762567dea"
      },
      "execution_count": 24,
      "outputs": [
        {
          "output_type": "stream",
          "name": "stdout",
          "text": [
            "Total persons created: 3\n"
          ]
        }
      ]
    },
    {
      "cell_type": "markdown",
      "source": [
        "9. Write a class Fraction with attributes numerator and denominator. Override the str method to display the\n",
        "fraction as \"numerator/denominator\"."
      ],
      "metadata": {
        "id": "uYNVOpsQVttc"
      }
    },
    {
      "cell_type": "code",
      "source": [
        "class Fraction:\n",
        "    def __init__(self, numerator, denominator):\n",
        "        self.numerator = numerator\n",
        "        self.denominator = denominator\n",
        "\n",
        "    def __str__(self):\n",
        "        return f\"{self.numerator}/{self.denominator}\"\n",
        "\n",
        "f = Fraction(3, 4)\n",
        "print(f)\n"
      ],
      "metadata": {
        "colab": {
          "base_uri": "https://localhost:8080/"
        },
        "id": "VW9q9snVVuzN",
        "outputId": "942691c1-7214-41ed-c4aa-a055207290b5"
      },
      "execution_count": 28,
      "outputs": [
        {
          "output_type": "stream",
          "name": "stdout",
          "text": [
            "3/4\n"
          ]
        }
      ]
    },
    {
      "cell_type": "markdown",
      "source": [
        "10. Demonstrate operator overloading by creating a class Vector and overriding the add method to add two\n",
        "vectors."
      ],
      "metadata": {
        "id": "ZWu0wwiKWAPW"
      }
    },
    {
      "cell_type": "code",
      "source": [
        "class Vector:\n",
        "    def __init__(self, x, y):\n",
        "        self.x = x\n",
        "        self.y = y\n",
        "\n",
        "    def __add__(self, other):\n",
        "        return Vector(self.x + other.x, self.y + other.y)\n",
        "\n",
        "    def __str__(self):\n",
        "        return f\"Vector({self.x}, {self.y})\"\n",
        "\n",
        "v1 = Vector(2, 3)\n",
        "v2 = Vector(4, 5)\n",
        "result = v1 + v2\n",
        "print(result)\n"
      ],
      "metadata": {
        "colab": {
          "base_uri": "https://localhost:8080/"
        },
        "id": "VC4izTX0WBlw",
        "outputId": "cf299917-9c14-401b-b80f-d414368eccae"
      },
      "execution_count": 30,
      "outputs": [
        {
          "output_type": "stream",
          "name": "stdout",
          "text": [
            "Vector(6, 8)\n"
          ]
        }
      ]
    },
    {
      "cell_type": "markdown",
      "source": [
        "11. Create a class Person with attributes name and age. Add a method greet() that prints \"Hello, my name is\n",
        "{name} and I am {age} years old.\""
      ],
      "metadata": {
        "id": "AZE4XHswWrW2"
      }
    },
    {
      "cell_type": "code",
      "source": [
        "class Person:\n",
        "    def __init__(self, name, age):\n",
        "        self.name = name\n",
        "        self.age = age\n",
        "\n",
        "    def greet(self):\n",
        "        print(f\"Hello, my name is {self.name} and I am {self.age} years old.\")\n",
        "\n",
        "person1 = Person(\"Alice\", 30)\n",
        "\n",
        "person1.greet()\n"
      ],
      "metadata": {
        "colab": {
          "base_uri": "https://localhost:8080/"
        },
        "id": "aly-lqAjWsQ6",
        "outputId": "9cfb0751-7774-489c-90d7-e2b7ecadd605"
      },
      "execution_count": 31,
      "outputs": [
        {
          "output_type": "stream",
          "name": "stdout",
          "text": [
            "Hello, my name is Alice and I am 30 years old.\n"
          ]
        }
      ]
    },
    {
      "cell_type": "markdown",
      "source": [
        "12. Implement a class Student with attributes name and grades. Create a method average_grade() to compute\n",
        "the average of the grades."
      ],
      "metadata": {
        "id": "sYBA-N2jUbcJ"
      }
    },
    {
      "cell_type": "code",
      "source": [
        "class Student:\n",
        "    def __init__(self, name, grades):\n",
        "        self.name = name\n",
        "        self.grades = grades\n",
        "\n",
        "    def average_grade(self):\n",
        "        if self.grades:\n",
        "            return sum(self.grades) / len(self.grades)\n",
        "        return 0\n",
        "\n",
        "student1 = Student(\"Ravi\", [85, 90, 78, 92])\n",
        "print(f\"{student1.name}'s average grade: {student1.average_grade()}\")\n"
      ],
      "metadata": {
        "colab": {
          "base_uri": "https://localhost:8080/"
        },
        "id": "Mge-kD1yUgvs",
        "outputId": "9d655132-8f11-4914-9cbf-10cb2120307f"
      },
      "execution_count": 1,
      "outputs": [
        {
          "output_type": "stream",
          "name": "stdout",
          "text": [
            "Ravi's average grade: 86.25\n"
          ]
        }
      ]
    },
    {
      "cell_type": "markdown",
      "source": [
        "13. Create a class Rectangle with methods set_dimensions() to set the dimensions and area() to calculate the\n",
        "area."
      ],
      "metadata": {
        "id": "9CmsC0ShUywa"
      }
    },
    {
      "cell_type": "code",
      "source": [
        "class Rectangle:\n",
        "    def __init__(self):\n",
        "        self.length = 0\n",
        "        self.width = 0\n",
        "\n",
        "    def set_dimensions(self, length, width):\n",
        "        self.length = length\n",
        "        self.width = width\n",
        "\n",
        "    def area(self):\n",
        "        return self.length * self.width\n",
        "\n",
        "rect = Rectangle()\n",
        "rect.set_dimensions(5, 4)\n",
        "print(f\"Area of rectangle: {rect.area()}\")\n"
      ],
      "metadata": {
        "colab": {
          "base_uri": "https://localhost:8080/"
        },
        "id": "1_BVvnJPUzto",
        "outputId": "15e11e24-6d19-4937-f33a-07445d99241c"
      },
      "execution_count": 2,
      "outputs": [
        {
          "output_type": "stream",
          "name": "stdout",
          "text": [
            "Area of rectangle: 20\n"
          ]
        }
      ]
    },
    {
      "cell_type": "markdown",
      "source": [
        "14. Create a class Employee with a method calculate_salary() that computes the salary based on hours worked\n",
        "and hourly rate. Create a derived class Manager that adds a bonus to the salary."
      ],
      "metadata": {
        "id": "zKsa_ic7VBUi"
      }
    },
    {
      "cell_type": "code",
      "source": [
        "class Employee:\n",
        "    def __init__(self, hours_worked, hourly_rate):\n",
        "        self.hours_worked = hours_worked\n",
        "        self.hourly_rate = hourly_rate\n",
        "\n",
        "    def calculate_salary(self):\n",
        "        return self.hours_worked * self.hourly_rate\n",
        "\n",
        "\n",
        "class Manager(Employee):\n",
        "    def __init__(self, hours_worked, hourly_rate, bonus):\n",
        "        super().__init__(hours_worked, hourly_rate)\n",
        "        self.bonus = bonus\n",
        "\n",
        "    def calculate_salary(self):\n",
        "        return super().calculate_salary() + self.bonus\n",
        "\n",
        "\n",
        "emp = Employee(40, 20)\n",
        "print(f\"Employee Salary: ${emp.calculate_salary()}\")\n",
        "\n",
        "mgr = Manager(40, 30, 500)\n",
        "print(f\"Manager Salary (with bonus): ${mgr.calculate_salary()}\")\n"
      ],
      "metadata": {
        "colab": {
          "base_uri": "https://localhost:8080/"
        },
        "id": "ls_8Qo3uVCKJ",
        "outputId": "705dbb2e-152c-4468-f2a5-64b37fc6b5be"
      },
      "execution_count": 3,
      "outputs": [
        {
          "output_type": "stream",
          "name": "stdout",
          "text": [
            "Employee Salary: $800\n",
            "Manager Salary (with bonus): $1700\n"
          ]
        }
      ]
    },
    {
      "cell_type": "markdown",
      "source": [
        "15. Create a class Product with attributes name, price, and quantity. Implement a method total_price() that\n",
        "calculates the total price of the product."
      ],
      "metadata": {
        "id": "nCjnBn_JVYii"
      }
    },
    {
      "cell_type": "code",
      "source": [
        "class Product:\n",
        "    def __init__(self, name, price, quantity):\n",
        "        self.name = name\n",
        "        self.price = price\n",
        "        self.quantity = quantity\n",
        "\n",
        "    def total_price(self):\n",
        "        return self.price * self.quantity\n",
        "\n",
        "\n",
        "product = Product(\"Laptop\", 1000, 3)\n",
        "print(f\"Product: {product.name}\")\n",
        "print(f\"Total Price: ${product.total_price()}\")\n"
      ],
      "metadata": {
        "colab": {
          "base_uri": "https://localhost:8080/"
        },
        "id": "eA093Bz_VZcJ",
        "outputId": "65690080-65f7-4512-c522-0d9ed1e6b5ca"
      },
      "execution_count": 4,
      "outputs": [
        {
          "output_type": "stream",
          "name": "stdout",
          "text": [
            "Product: Laptop\n",
            "Total Price: $3000\n"
          ]
        }
      ]
    },
    {
      "cell_type": "markdown",
      "source": [
        "16. Create a class Animal with an abstract method sound(). Create two derived classes Cow and Sheep that\n",
        "implement the sound() method."
      ],
      "metadata": {
        "id": "5QsF6WQxVvqZ"
      }
    },
    {
      "cell_type": "code",
      "source": [
        "from abc import ABC, abstractmethod\n",
        "\n",
        "class Animal(ABC):\n",
        "    @abstractmethod\n",
        "    def sound(self):\n",
        "        pass\n",
        "\n",
        "class Cow(Animal):\n",
        "    def sound(self):\n",
        "        return \"Moo\"\n",
        "\n",
        "class Sheep(Animal):\n",
        "    def sound(self):\n",
        "        return \"Baa\"\n",
        "\n",
        "cow = Cow()\n",
        "sheep = Sheep()\n",
        "\n",
        "print(f\"Cow sound: {cow.sound()}\")\n",
        "print(f\"Sheep sound: {sheep.sound()}\")\n"
      ],
      "metadata": {
        "colab": {
          "base_uri": "https://localhost:8080/"
        },
        "id": "do-sVioAVwW-",
        "outputId": "10cd5262-d74c-4138-c538-4ecafc11e8f1"
      },
      "execution_count": 5,
      "outputs": [
        {
          "output_type": "stream",
          "name": "stdout",
          "text": [
            "Cow sound: Moo\n",
            "Sheep sound: Baa\n"
          ]
        }
      ]
    },
    {
      "cell_type": "markdown",
      "source": [
        "17. Create a class Book with attributes title, author, and year_published. Add a method get_book_info() that\n",
        "returns a formatted string with the book's details."
      ],
      "metadata": {
        "id": "se1_8DXqWGuY"
      }
    },
    {
      "cell_type": "code",
      "source": [
        "class Book:\n",
        "    def __init__(self, title, author, year_published):\n",
        "        self.title = title\n",
        "        self.author = author\n",
        "        self.year_published = year_published\n",
        "\n",
        "    def get_book_info(self):\n",
        "        return f\"'{self.title}' by {self.author}, published in {self.year_published}\"\n",
        "\n",
        "book = Book(\"To Kill a Mockingbird\", \"Harper Lee\", 1960)\n",
        "print(book.get_book_info())\n"
      ],
      "metadata": {
        "colab": {
          "base_uri": "https://localhost:8080/"
        },
        "id": "1Ye_r18oWHYT",
        "outputId": "8aaf9f07-6dc4-451d-c7f0-5a89f55b37ad"
      },
      "execution_count": 6,
      "outputs": [
        {
          "output_type": "stream",
          "name": "stdout",
          "text": [
            "'To Kill a Mockingbird' by Harper Lee, published in 1960\n"
          ]
        }
      ]
    },
    {
      "cell_type": "markdown",
      "source": [
        "18. Create a class House with attributes address and price. Create a derived class Mansion that adds an\n",
        "attribute number_of_rooms."
      ],
      "metadata": {
        "id": "a8iDYx3SWRC-"
      }
    },
    {
      "cell_type": "code",
      "source": [
        "class House:\n",
        "    def __init__(self, address, price):\n",
        "        self.address = address\n",
        "        self.price = price\n",
        "\n",
        "    def get_details(self):\n",
        "        return f\"Address: {self.address}, Price: ${self.price}\"\n",
        "\n",
        "class Mansion(House):\n",
        "    def __init__(self, address, price, number_of_rooms):\n",
        "        super().__init__(address, price)\n",
        "        self.number_of_rooms = number_of_rooms\n",
        "\n",
        "    def get_details(self):\n",
        "        return f\"{super().get_details()}, Rooms: {self.number_of_rooms}\"\n",
        "\n",
        "mansion = Mansion(\"123 Beverly Hills\", 5000000, 12)\n",
        "print(mansion.get_details())\n"
      ],
      "metadata": {
        "colab": {
          "base_uri": "https://localhost:8080/"
        },
        "id": "fKipihEtWHg0",
        "outputId": "3b137f71-2bdf-4859-d407-58eb8bcd2c74"
      },
      "execution_count": 7,
      "outputs": [
        {
          "output_type": "stream",
          "name": "stdout",
          "text": [
            "Address: 123 Beverly Hills, Price: $5000000, Rooms: 12\n"
          ]
        }
      ]
    }
  ]
}